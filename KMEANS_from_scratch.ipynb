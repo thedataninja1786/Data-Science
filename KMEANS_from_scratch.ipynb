{
  "nbformat": 4,
  "nbformat_minor": 0,
  "metadata": {
    "colab": {
      "name": "KMEANS_from_scratch.ipynb",
      "provenance": [],
      "collapsed_sections": [],
      "authorship_tag": "ABX9TyOILO43k0tQ7XQZsq714vIS",
      "include_colab_link": true
    },
    "kernelspec": {
      "name": "python3",
      "display_name": "Python 3"
    },
    "language_info": {
      "name": "python"
    }
  },
  "cells": [
    {
      "cell_type": "markdown",
      "metadata": {
        "id": "view-in-github",
        "colab_type": "text"
      },
      "source": [
        "<a href=\"https://colab.research.google.com/github/thedataninja1786/Data-Science/blob/main/KMEANS_from_scratch.ipynb\" target=\"_parent\"><img src=\"https://colab.research.google.com/assets/colab-badge.svg\" alt=\"Open In Colab\"/></a>"
      ]
    },
    {
      "cell_type": "code",
      "metadata": {
        "id": "YHwzz4UVihbL"
      },
      "source": [
        "from sklearn.datasets import make_blobs \n",
        "import numpy as np \n",
        "import random \n",
        "import matplotlib.pyplot as plt"
      ],
      "execution_count": 6,
      "outputs": []
    },
    {
      "cell_type": "code",
      "metadata": {
        "id": "iOhWAlsaik5I"
      },
      "source": [
        "class KMeansClustering():\n",
        "  def __init__(self, n_clusters, X, n_iters):\n",
        "    self.n_clusters = n_clusters\n",
        "    self.X = X\n",
        "    self.n_iters = n_iters\n",
        "\n",
        "  def fit(self):\n",
        "    # Initialize random centroids by selecting random values from the dataset\n",
        "    # Shape will be: (n_features x n_clusters)\n",
        "    centroids = [self.X[random.randrange(0,len(self.X))] for cluster in range(self.n_clusters)]\n",
        "\n",
        "    # Perform 100 simulations until convergence \n",
        "    for _ in range(self.n_iters):\n",
        "      # Initialize n amount of clusters which datapoints will be appended \n",
        "      clusters = [[] for x in range(self.n_clusters)]\n",
        "\n",
        "      for idx, data_point in enumerate(self.X): \n",
        "        prospective_centroids = []\n",
        "        for centroid in centroids:\n",
        "          x = 0 \n",
        "          for dt,ct in zip(data_point,centroid):\n",
        "            # Calculate the Euclidean distance \n",
        "            x += (dt - ct) ** 2 \n",
        "          x = x ** 0.5 \n",
        "          prospective_centroids.append(x)\n",
        "        # Index the closest centroid \n",
        "        closest_centroid_idx = prospective_centroids.index(min(prospective_centroids))\n",
        "        # Append each datapoint to its respective cluster  \n",
        "        clusters[closest_centroid_idx].append(idx)\n",
        "\n",
        "      # Update centroids with the mean of each previously classified cluster\n",
        "      # mean is calculated on feature-level \n",
        "      new_centroids = [[self.X[i] for i in cluster] for cluster in clusters]\n",
        "      for i,_ in enumerate(centroids):\n",
        "        centroids[i] = np.mean(new_centroids[i], axis=0)\n",
        "    \n",
        "    return (clusters, centroids)\n",
        "\n",
        "  def predict(self):\n",
        "    clusters, centroids = self.fit()\n",
        "    predictions = []\n",
        "    for i,cluster in enumerate(clusters):\n",
        "      for _ in cluster:\n",
        "        predictions.append(i)\n",
        "        \n",
        "    return (predictions, centroids)\n"
      ],
      "execution_count": 3,
      "outputs": []
    },
    {
      "cell_type": "code",
      "metadata": {
        "id": "T4l5iE5dKSdE"
      },
      "source": [
        "# Create dummy data \n",
        "random.seed(0)\n",
        "X, _ = make_blobs(n_samples = 1000, n_features= 2,random_state=45)\n",
        "X = X.tolist()\n",
        "\n",
        "k_means = KMeansClustering(n_clusters = 3, X = X, n_iters = 100)\n",
        "predictions, centroids = k_means.predict()"
      ],
      "execution_count": 24,
      "outputs": []
    },
    {
      "cell_type": "code",
      "metadata": {
        "colab": {
          "base_uri": "https://localhost:8080/",
          "height": 265
        },
        "id": "lrjZjfH5UqX3",
        "outputId": "d4928fe3-83e9-4037-c8d3-24b33143c1ed"
      },
      "source": [
        "import pandas as pd\n",
        "centroids = pd.DataFrame(centroids)\n",
        "df = pd.DataFrame(X)\n",
        "df['predictions'] = predictions\n",
        "\n",
        "plt.scatter(df[0], df[1])\n",
        "plt.scatter(centroids[0], centroids[1])\n",
        "plt.show()"
      ],
      "execution_count": 25,
      "outputs": [
        {
          "output_type": "display_data",
          "data": {
            "image/png": "[encoded data removed]",
            "text/plain": [
              "<Figure size 432x288 with 1 Axes>"
            ]
          },
          "metadata": {
            "needs_background": "light"
          }
        }
      ]
    }
  ]
}